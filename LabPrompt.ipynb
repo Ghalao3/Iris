{
 "cells": [
  {
   "cell_type": "markdown",
   "id": "068bb0ae",
   "metadata": {},
   "source": [
    "# Step 1: Form Pairs"
   ]
  },
  {
   "cell_type": "markdown",
   "id": "a7d66210",
   "metadata": {},
   "source": [
    "### Developer Role: Ghala\n",
    "### Gatekeeper Role: Razan"
   ]
  },
  {
   "cell_type": "markdown",
   "id": "634f2ae6",
   "metadata": {},
   "source": [
    "# Step 2: Developer Role"
   ]
  },
  {
   "cell_type": "code",
   "execution_count": null,
   "id": "a450b2e3",
   "metadata": {},
   "outputs": [],
   "source": [
    "from sklearn.datasets import load_iris\n",
    "from sklearn.model_selection import train_test_split\n",
    "from sklearn.ensemble import RandomForestClassifier\n",
    "from sklearn.metrics import accuracy_score\n",
    "\n",
    "class IrisClassifier:\n",
    "    def __init__(self):\n",
    "        self.model = RandomForestClassifier(n_estimators=100, random_state=42)\n",
    "        self.load_data()\n",
    "\n",
    "    def load_data(self):\n",
    "        iris = load_iris()\n",
    "        self.X = iris.data\n",
    "        self.y = iris.target\n",
    "        self.target_names = iris.target_names\n",
    "        self.feature_names = iris.feature_names\n",
    "        self.X_train, self.X_test, self.y_train, self.y_test = train_test_split(\n",
    "            self.X, self.y, test_size=0.2, random_state=42\n",
    "        )\n",
    "\n",
    "    def train(self):\n",
    "        self.model.fit(self.X_train, self.y_train)\n",
    "\n",
    "    def evaluate(self):\n",
    "        y_pred = self.model.predict(self.X_test)\n",
    "        acc = accuracy_score(self.y_test, y_pred)\n",
    "        print(f\"✅ Model Accuracy: {acc:.2f}\")\n",
    "\n",
    "    def predict(self, features):\n",
    "        pred = self.model.predict([features])[0]\n",
    "        return self.target_names[pred]\n",
    "\n",
    "if __name__ == \"__main__\":\n",
    "    clf = IrisClassifier()\n",
    "    clf.train()\n",
    "    clf.evaluate()\n",
    "\n",
    "    # Example prediction\n",
    "    sample = [5.1, 3.5, 1.4, 0.2]  # Input features\n",
    "    result = clf.predict(sample)\n",
    "    print(f\"🌸 Predicted flower type for {sample} → {result}\")\n",
    "\n",
    "\n",
    "\n",
    "    "
   ]
  },
  {
   "cell_type": "markdown",
   "id": "52fb1e64",
   "metadata": {},
   "source": [
    "# Step 3: Gatekeeper Role"
   ]
  },
  {
   "cell_type": "code",
   "execution_count": null,
   "id": "dc734b01",
   "metadata": {},
   "outputs": [],
   "source": [
    "print(\"hello world\")"
   ]
  }
 ],
 "metadata": {
  "kernelspec": {
   "display_name": ".venv",
   "language": "python",
   "name": "python3"
  },
  "language_info": {
   "codemirror_mode": {
    "name": "ipython",
    "version": 3
   },
   "file_extension": ".py",
   "mimetype": "text/x-python",
   "name": "python",
   "nbconvert_exporter": "python",
   "pygments_lexer": "ipython3",
   "version": "3.11.9"
  }
 },
 "nbformat": 4,
 "nbformat_minor": 5
}
